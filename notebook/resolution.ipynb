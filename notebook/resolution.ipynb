{
 "cells": [
  {
   "cell_type": "markdown",
   "metadata": {},
   "source": [
    "# library"
   ]
  },
  {
   "cell_type": "code",
   "execution_count": 11,
   "metadata": {},
   "outputs": [],
   "source": [
    "import numpy as np\n",
    "import matplotlib.pyplot as plt\n",
    "import cv2\n",
    "from PIL import Image\n",
    "\n",
    "import os\n",
    "import os.path as op\n",
    "from os import listdir\n",
    "\n",
    "from glob import glob\n",
    "\n",
    "import shutil"
   ]
  },
  {
   "cell_type": "markdown",
   "metadata": {},
   "source": [
    "# resolution elec"
   ]
  },
  {
   "cell_type": "code",
   "execution_count": 5,
   "metadata": {},
   "outputs": [],
   "source": [
    "input_root = 'test'\n",
    "output_root = 'resolution-image'"
   ]
  },
  {
   "cell_type": "code",
   "execution_count": 7,
   "metadata": {},
   "outputs": [
    {
     "name": "stdout",
     "output_type": "stream",
     "text": [
      "input_healthy_root: test\\Healthy\n",
      "input_patient_root: test\\Patient\n"
     ]
    }
   ],
   "source": [
    "input_healthy_root, input_patient_root = glob(f\"{input_root}/*\")\n",
    "print(f\"input_healthy_root: {input_healthy_root}\")\n",
    "print(f\"input_patient_root: {input_patient_root}\")"
   ]
  },
  {
   "cell_type": "code",
   "execution_count": 9,
   "metadata": {},
   "outputs": [],
   "source": [
    "input_healthy_path = glob(f\"{input_healthy_root}/*.jpg\")\n",
    "input_patient_path = glob(f\"{input_patient_root}/*.jpg\")"
   ]
  },
  {
   "cell_type": "code",
   "execution_count": 10,
   "metadata": {},
   "outputs": [
    {
     "data": {
      "text/plain": [
       "[['test\\\\Healthy\\\\sp1-H19.jpg',\n",
       "  'test\\\\Healthy\\\\sp1-H31.jpg',\n",
       "  'test\\\\Healthy\\\\sp1-H33.jpg',\n",
       "  'test\\\\Healthy\\\\sp2-H18.jpg',\n",
       "  'test\\\\Healthy\\\\sp2-H29.jpg',\n",
       "  'test\\\\Healthy\\\\sp2-H31.jpg',\n",
       "  'test\\\\Healthy\\\\sp2-H35.jpg',\n",
       "  'test\\\\Healthy\\\\sp3-H1.jpg',\n",
       "  'test\\\\Healthy\\\\sp3-H27.jpg',\n",
       "  'test\\\\Healthy\\\\V55HE15.jpg'],\n",
       " ['test\\\\Patient\\\\sp1-P17.jpg',\n",
       "  'test\\\\Patient\\\\sp1-P2.jpg',\n",
       "  'test\\\\Patient\\\\sp1-P21.jpg',\n",
       "  'test\\\\Patient\\\\sp2-P2.jpg',\n",
       "  'test\\\\Patient\\\\sp2-P6.jpg',\n",
       "  'test\\\\Patient\\\\sp3-P19.jpg',\n",
       "  'test\\\\Patient\\\\sp3-P27.jpg',\n",
       "  'test\\\\Patient\\\\sp3-P29.jpg',\n",
       "  'test\\\\Patient\\\\sp4-P14.jpg',\n",
       "  'test\\\\Patient\\\\sp4-P32.jpg']]"
      ]
     },
     "execution_count": 10,
     "metadata": {},
     "output_type": "execute_result"
    }
   ],
   "source": [
    "[input_healthy_path , input_patient_path]"
   ]
  },
  {
   "cell_type": "code",
   "execution_count": 16,
   "metadata": {},
   "outputs": [],
   "source": [
    "output_healthy_root = f\"{output_root}/Healthy\"\n",
    "if not op.exists(output_healthy_root) : os.makedirs(output_healthy_root)"
   ]
  },
  {
   "cell_type": "code",
   "execution_count": 18,
   "metadata": {},
   "outputs": [],
   "source": [
    "for path in input_healthy_path :\n",
    "    image = Image.open(path).resize((224,224))\n",
    "    image.save('resolution_image.jpg' , quality = 10)\n",
    "    shutil.copy('resolution_image.jpg' , f\"{output_healthy_root}/{op.basename(path)}\")"
   ]
  },
  {
   "cell_type": "code",
   "execution_count": 19,
   "metadata": {},
   "outputs": [],
   "source": [
    "output_patient_root = f\"{output_root}/Patient\"\n",
    "if not op.exists(output_patient_root) : os.makedirs(output_patient_root)"
   ]
  },
  {
   "cell_type": "code",
   "execution_count": 20,
   "metadata": {},
   "outputs": [],
   "source": [
    "for path in input_patient_path :\n",
    "    image = Image.open(path).resize((224,224))\n",
    "    image.save('resolution_image.jpg' , quality = 10)\n",
    "    shutil.copy('resolution_image.jpg' , f\"{output_patient_root}/{op.basename(path)}\")"
   ]
  },
  {
   "cell_type": "markdown",
   "metadata": {},
   "source": [
    "# resolution custom"
   ]
  },
  {
   "cell_type": "code",
   "execution_count": 21,
   "metadata": {},
   "outputs": [
    {
     "name": "stdout",
     "output_type": "stream",
     "text": [
      "input_healthy_root: my testset\\Healthy\n",
      "input_patient_root: my testset\\Patient\n"
     ]
    }
   ],
   "source": [
    "# process3\n",
    "input_root = 'my testset'\n",
    "output_root = 'resolution-image2'\n",
    "input_healthy_root, input_patient_root = glob(f\"{input_root}/*\")\n",
    "print(f\"input_healthy_root: {input_healthy_root}\")\n",
    "print(f\"input_patient_root: {input_patient_root}\")\n",
    "input_healthy_path = glob(f\"{input_healthy_root}/*.jpg\")\n",
    "input_patient_path = glob(f\"{input_patient_root}/*.jpg\")\n",
    "[input_healthy_path , input_patient_path]\n",
    "output_healthy_root = f\"{output_root}/Healthy\"\n",
    "if not op.exists(output_healthy_root) : os.makedirs(output_healthy_root)\n",
    "for path in input_healthy_path :\n",
    "    image = Image.open(path).resize((224,224))\n",
    "    image.save('resolution_image.jpg' , quality = 10)\n",
    "    shutil.copy('resolution_image.jpg' , f\"{output_healthy_root}/{op.basename(path)}\")\n",
    "output_patient_root = f\"{output_root}/Patient\"\n",
    "if not op.exists(output_patient_root) : os.makedirs(output_patient_root)\n",
    "for path in input_patient_path :\n",
    "    image = Image.open(path).resize((224,224))\n",
    "    image.save('resolution_image.jpg' , quality = 10)\n",
    "    shutil.copy('resolution_image.jpg' , f\"{output_patient_root}/{op.basename(path)}\")"
   ]
  }
 ],
 "metadata": {
  "kernelspec": {
   "display_name": "Python 3",
   "language": "python",
   "name": "python3"
  },
  "language_info": {
   "codemirror_mode": {
    "name": "ipython",
    "version": 3
   },
   "file_extension": ".py",
   "mimetype": "text/x-python",
   "name": "python",
   "nbconvert_exporter": "python",
   "pygments_lexer": "ipython3",
   "version": "3.10.7"
  }
 },
 "nbformat": 4,
 "nbformat_minor": 2
}
